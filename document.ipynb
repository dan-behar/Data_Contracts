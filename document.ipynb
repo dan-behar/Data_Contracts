{
 "cells": [
  {
   "cell_type": "code",
   "execution_count": 1,
   "metadata": {},
   "outputs": [],
   "source": [
    "#Important libraries\n",
    "import pandas as pd\n",
    "import numpy as np\n",
    "import random\n",
    "import duckdb\n",
    "import yaml\n",
    "from datetime import datetime\n",
    "import logging"
   ]
  },
  {
   "cell_type": "markdown",
   "metadata": {},
   "source": [
    "### Extracting relevant info to build the contract"
   ]
  },
  {
   "cell_type": "code",
   "execution_count": null,
   "metadata": {},
   "outputs": [],
   "source": [
    "#Dataframe to use\n",
    "df = pd.read_csv(\"mejorado.csv\")\n",
    "df"
   ]
  },
  {
   "cell_type": "markdown",
   "metadata": {},
   "source": [
    "Added age as part of the example to the contract. Ranges: 18-100"
   ]
  },
  {
   "cell_type": "code",
   "execution_count": null,
   "metadata": {},
   "outputs": [],
   "source": [
    "#DO NOT RUN AGAIN\n",
    "age = []\n",
    "for i in range(1000):\n",
    "    age.append(random.randint(18,100))\n",
    "\n",
    "df=df.assign(ep_edad = age)\n",
    "df"
   ]
  },
  {
   "cell_type": "code",
   "execution_count": null,
   "metadata": {},
   "outputs": [],
   "source": [
    "#DO NOT RUN AGAIN\n",
    "df.to_csv('mejorado.csv')"
   ]
  },
  {
   "cell_type": "code",
   "execution_count": null,
   "metadata": {},
   "outputs": [],
   "source": [
    "np.unique(df['ep_tipo_exp'])"
   ]
  },
  {
   "cell_type": "code",
   "execution_count": null,
   "metadata": {},
   "outputs": [],
   "source": [
    "print(np.unique(df['ep_estado']))"
   ]
  },
  {
   "cell_type": "code",
   "execution_count": null,
   "metadata": {},
   "outputs": [],
   "source": [
    "print(np.unique(df['ep_ubicacion']))"
   ]
  },
  {
   "cell_type": "code",
   "execution_count": null,
   "metadata": {},
   "outputs": [],
   "source": [
    "df['ep_edad'].describe()"
   ]
  },
  {
   "cell_type": "markdown",
   "metadata": {},
   "source": [
    "### Contract example using the four variables described earlier"
   ]
  },
  {
   "cell_type": "code",
   "execution_count": 2,
   "metadata": {},
   "outputs": [],
   "source": [
    "#Log file basic configuration\n",
    "logging.basicConfig(filename=\"ContractFiles.log\",\n",
    "                    format='%(asctime)s %(message)s',\n",
    "                    filemode='w')\n",
    "\n",
    "logger = logging.getLogger()\n",
    "logger.setLevel(logging.DEBUG)\n",
    "\n",
    "# Stablishing connection with DB\n",
    "conn = duckdb.connect('file.db')"
   ]
  },
  {
   "cell_type": "code",
   "execution_count": 3,
   "metadata": {},
   "outputs": [
    {
     "name": "stdout",
     "output_type": "stream",
     "text": [
      "resultados table already exists\n",
      "┌──────────────────────┬──────────────┬─────────────────────────┬───────────┬───────────────────────────┬──────────────┐\n",
      "│  fecha_val_contrato  │  table_name  │       categorical       │ numerical │           nulls           │ doesnt_exist │\n",
      "│      timestamp       │   varchar    │         varchar         │  varchar  │          varchar          │   varchar    │\n",
      "├──────────────────────┼──────────────┼─────────────────────────┼───────────┼───────────────────────────┼──────────────┤\n",
      "│ 2023-09-27 11:09:0…  │ tester.csv   │ ep_tipo_exp, ep_estad…  │ ep_edad,  │ ep_estado, ep_ubicacion,  │ All good     │\n",
      "│ 2023-09-27 11:17:2…  │ mejorado.csv │ All good                │ All good  │ All good                  │ All good     │\n",
      "│ 2023-09-27 11:26:4…  │ tester.csv   │ ep_tipo_exp, ep_estad…  │ ep_edad,  │ ep_estado, ep_ubicacion,  │ All good     │\n",
      "│ 2023-10-04 10:25:3…  │ mejorado.csv │ All good                │ All good  │ All good                  │ All good     │\n",
      "│ 2023-10-10 09:23:2…  │ mejorado.csv │ All good                │ All good  │ All good                  │ All good     │\n",
      "│ 2023-10-10 09:24:1…  │ mejorado.csv │ All good                │ All good  │ All good                  │ All good     │\n",
      "│ 2023-10-13 10:10:57  │ mejorado.csv │ All good                │ All good  │ All good                  │ All good     │\n",
      "└──────────────────────┴──────────────┴─────────────────────────┴───────────┴───────────────────────────┴──────────────┘\n",
      "\n"
     ]
    }
   ],
   "source": [
    "# Creating the tables that I'm gonna use and viewing them\n",
    "try:\n",
    "        conn.sql(\"\"\"CREATE TABLE resultados(fecha_val_contrato DATETIME, \n",
    "                table_name VARCHAR(50), \n",
    "                categorical VARCHAR(50), \n",
    "                numerical VARCHAR(50), \n",
    "                nulls VARCHAR(50),\n",
    "                doesnt_exist VARCHAR(50))\"\"\")\n",
    "except:\n",
    "        print(\"resultados table already exists\")\n",
    "        \n",
    "conn.table('resultados').show()"
   ]
  },
  {
   "cell_type": "code",
   "execution_count": 4,
   "metadata": {},
   "outputs": [
    {
     "data": {
      "text/html": [
       "<div>\n",
       "<style scoped>\n",
       "    .dataframe tbody tr th:only-of-type {\n",
       "        vertical-align: middle;\n",
       "    }\n",
       "\n",
       "    .dataframe tbody tr th {\n",
       "        vertical-align: top;\n",
       "    }\n",
       "\n",
       "    .dataframe thead th {\n",
       "        text-align: right;\n",
       "    }\n",
       "</style>\n",
       "<table border=\"1\" class=\"dataframe\">\n",
       "  <thead>\n",
       "    <tr style=\"text-align: right;\">\n",
       "      <th></th>\n",
       "      <th>ep_operacion</th>\n",
       "      <th>ep_expediente</th>\n",
       "      <th>ep_tipo_exp</th>\n",
       "      <th>ep_estado</th>\n",
       "      <th>ep_ubicacion</th>\n",
       "      <th>ep_cliente</th>\n",
       "      <th>ep_descripcion</th>\n",
       "      <th>ep_ult_mod</th>\n",
       "      <th>ep_edad</th>\n",
       "    </tr>\n",
       "  </thead>\n",
       "  <tbody>\n",
       "    <tr>\n",
       "      <th>0</th>\n",
       "      <td>1</td>\n",
       "      <td>50041781</td>\n",
       "      <td>C1</td>\n",
       "      <td>N</td>\n",
       "      <td>5</td>\n",
       "      <td>704501</td>\n",
       "      <td>traslado por actualizacion de cambios en segur...</td>\n",
       "      <td>56:08.6</td>\n",
       "      <td>28</td>\n",
       "    </tr>\n",
       "    <tr>\n",
       "      <th>1</th>\n",
       "      <td>2</td>\n",
       "      <td>20037263</td>\n",
       "      <td>C1</td>\n",
       "      <td>N</td>\n",
       "      <td>5</td>\n",
       "      <td>280988</td>\n",
       "      <td>Crédito cancelado</td>\n",
       "      <td>20:18.0</td>\n",
       "      <td>87</td>\n",
       "    </tr>\n",
       "    <tr>\n",
       "      <th>2</th>\n",
       "      <td>3</td>\n",
       "      <td>10254701</td>\n",
       "      <td>C1</td>\n",
       "      <td>N</td>\n",
       "      <td>5</td>\n",
       "      <td>264989</td>\n",
       "      <td>Expediente cancelado con bolsa de testimonio e...</td>\n",
       "      <td>52:17.1</td>\n",
       "      <td>54</td>\n",
       "    </tr>\n",
       "    <tr>\n",
       "      <th>3</th>\n",
       "      <td>4</td>\n",
       "      <td>10255729</td>\n",
       "      <td>C1</td>\n",
       "      <td>N</td>\n",
       "      <td>5</td>\n",
       "      <td>145769</td>\n",
       "      <td>Expediente  y  Testimonio original</td>\n",
       "      <td>40:31.3</td>\n",
       "      <td>47</td>\n",
       "    </tr>\n",
       "    <tr>\n",
       "      <th>4</th>\n",
       "      <td>5</td>\n",
       "      <td>50014116</td>\n",
       "      <td>C2</td>\n",
       "      <td>N</td>\n",
       "      <td>22</td>\n",
       "      <td>480545</td>\n",
       "      <td>Creacion de etiqueta para expediente</td>\n",
       "      <td>46:11.7</td>\n",
       "      <td>27</td>\n",
       "    </tr>\n",
       "  </tbody>\n",
       "</table>\n",
       "</div>"
      ],
      "text/plain": [
       "   ep_operacion ep_expediente ep_tipo_exp ep_estado  ep_ubicacion  ep_cliente  \\\n",
       "0             1      50041781          C1         N             5      704501   \n",
       "1             2      20037263          C1         N             5      280988   \n",
       "2             3      10254701          C1         N             5      264989   \n",
       "3             4      10255729          C1         N             5      145769   \n",
       "4             5      50014116          C2         N            22      480545   \n",
       "\n",
       "                                      ep_descripcion ep_ult_mod  ep_edad  \n",
       "0  traslado por actualizacion de cambios en segur...    56:08.6       28  \n",
       "1                                  Crédito cancelado    20:18.0       87  \n",
       "2  Expediente cancelado con bolsa de testimonio e...    52:17.1       54  \n",
       "3                 Expediente  y  Testimonio original    40:31.3       47  \n",
       "4               Creacion de etiqueta para expediente    46:11.7       27  "
      ]
     },
     "execution_count": 4,
     "metadata": {},
     "output_type": "execute_result"
    }
   ],
   "source": [
    "# This will be the CSV that ill pass in the validator\n",
    "result = duckdb.query('SELECT * FROM \"mejorado.csv\"').to_df()\n",
    "result.head(5)"
   ]
  },
  {
   "cell_type": "code",
   "execution_count": 4,
   "metadata": {},
   "outputs": [],
   "source": [
    "# Getting the details of the contract in the YAML\n",
    "with open('Contract.yml', 'rb') as f:\n",
    "    conf = yaml.safe_load(f.read())"
   ]
  },
  {
   "cell_type": "code",
   "execution_count": 6,
   "metadata": {},
   "outputs": [],
   "source": [
    "# Contract enforcer\n",
    "def enforcerSQL(yaml):\n",
    "\n",
    "    # Defining returns\n",
    "    now = datetime.now()\n",
    "    formatted_date = now.strftime('%Y-%m-%d %H:%M:%S')\n",
    "    categ_n = \"\"\n",
    "    numer_n = \"\"\n",
    "    nulls_n = \"\"\n",
    "    nonexist = \"\"\n",
    "    exists = True\n",
    "\n",
    "    logger.info(\"Table %s\", yaml[\"tableName\"])\n",
    "\n",
    "    # Cycle to move in all the columns that the DC defines\n",
    "    for i in range (len(yaml['columns'])):\n",
    "\n",
    "        columna = yaml['columns'][i]['column']\n",
    "        valores = yaml['columns'][i]['values']\n",
    "        nva = []\n",
    "\n",
    "        # Validator for categorical columns\n",
    "        if yaml['columns'][i]['isCategorical']:\n",
    "            try:\n",
    "                qry = duckdb.query(f'SELECT DISTINCT {columna} FROM {yaml[\"tableName\"]}').fetchall()\n",
    "                for i in range(len(qry)):\n",
    "                    nva.append(qry[i][0])\n",
    "                if len(list(set(nva).difference(valores))) == 0:\n",
    "                    logger.info(\"Column %s correct\", columna)\n",
    "                else:\n",
    "                    logger.warning(f\"Col %s unknown values: {list(set(nva).difference(valores))}\", columna)\n",
    "                    categ_n = categ_n + f\"{columna}, \"\n",
    "            except:\n",
    "                logger.error(\"Column %s doesnt exist\", columna)\n",
    "                nonexist = nonexist + f\"{columna}, \"\n",
    "                exists = False\n",
    "        \n",
    "        # Validator for non categorical columns\n",
    "        else:\n",
    "            try:\n",
    "                qry = duckdb.query(f'''SELECT {columna} FROM {yaml[\"tableName\"]}\n",
    "                                    WHERE {columna} < {valores[0]} OR {columna} > {valores[1]}''').fetchall()\n",
    "                if len(qry) != 0:\n",
    "                    logger.warning(f\"Col %s wrong vals: {qry}\", columna)\n",
    "                    numer_n = numer_n + f\"{columna}, \"\n",
    "                else:\n",
    "                    logger.info(\"Column %s correct\", columna)\n",
    "            except:\n",
    "                logger.error(\"Column %s doesnt exist\", columna)\n",
    "                nonexist = nonexist + f\"{columna}, \"\n",
    "                exists = False\n",
    "\n",
    "        # Checking for nulls\n",
    "        if exists and yaml['columns'][0]['isNullable'] == False:\n",
    "            nulls = duckdb.query(f'''select {columna} from {yaml[\"tableName\"]} \n",
    "                        WHERE {columna} IS NULL''').fetchall()\n",
    "            if len(nulls) != 0:\n",
    "                logger.warning(\"Column %s have nulls\", columna)\n",
    "                nulls_n = nulls_n + f\"{columna}, \"\n",
    "            else:\n",
    "                logger.info(\"No Null values in %s\", columna)\n",
    "        else:\n",
    "            exists = True\n",
    "    \n",
    "    logger.info(\"---------------------------------------------------------\")\n",
    "\n",
    "    if len(categ_n) == 0:\n",
    "        categ_n = \"All good\"\n",
    "    if len(numer_n) == 0:\n",
    "        numer_n = \"All good\"\n",
    "    if len(nulls_n) == 0:\n",
    "        nulls_n = \"All good\"\n",
    "    if len(nonexist) == 0:\n",
    "        nonexist = \"All good\"\n",
    "\n",
    "    return formatted_date, yaml[\"tableName\"], categ_n, numer_n, nulls_n, nonexist"
   ]
  },
  {
   "cell_type": "code",
   "execution_count": 7,
   "metadata": {},
   "outputs": [
    {
     "name": "stdout",
     "output_type": "stream",
     "text": [
      "┌──────────────────────┬──────────────┬─────────────────────────┬───────────┬───────────────────────────┬──────────────┐\n",
      "│  fecha_val_contrato  │  table_name  │       categorical       │ numerical │           nulls           │ doesnt_exist │\n",
      "│      timestamp       │   varchar    │         varchar         │  varchar  │          varchar          │   varchar    │\n",
      "├──────────────────────┼──────────────┼─────────────────────────┼───────────┼───────────────────────────┼──────────────┤\n",
      "│ 2023-09-27 11:09:0…  │ tester.csv   │ ep_tipo_exp, ep_estad…  │ ep_edad,  │ ep_estado, ep_ubicacion,  │ All good     │\n",
      "│ 2023-09-27 11:17:2…  │ mejorado.csv │ All good                │ All good  │ All good                  │ All good     │\n",
      "│ 2023-09-27 11:26:4…  │ tester.csv   │ ep_tipo_exp, ep_estad…  │ ep_edad,  │ ep_estado, ep_ubicacion,  │ All good     │\n",
      "│ 2023-10-04 10:25:3…  │ mejorado.csv │ All good                │ All good  │ All good                  │ All good     │\n",
      "│ 2023-10-10 09:23:2…  │ mejorado.csv │ All good                │ All good  │ All good                  │ All good     │\n",
      "│ 2023-10-10 09:24:1…  │ mejorado.csv │ All good                │ All good  │ All good                  │ All good     │\n",
      "│ 2023-10-13 10:10:57  │ mejorado.csv │ All good                │ All good  │ All good                  │ All good     │\n",
      "└──────────────────────┴──────────────┴─────────────────────────┴───────────┴───────────────────────────┴──────────────┘\n",
      "\n"
     ]
    }
   ],
   "source": [
    "lista = enforcerSQL(conf)\n",
    "\n",
    "insert_query = f\"\"\"\n",
    "    INSERT INTO resultados\n",
    "    (fecha_val_contrato, table_name, categorical, numerical, nulls, doesnt_exist)\n",
    "    VALUES\n",
    "    ('{lista[0]}', '{lista[1]}', \n",
    "    '{lista[2]}', '{lista[3]}', \n",
    "    '{lista[4]}', '{lista[5]}')\n",
    "\"\"\"\n",
    "\n",
    "conn.execute(insert_query)\n",
    "conn.table('resultados').show()"
   ]
  },
  {
   "cell_type": "code",
   "execution_count": 11,
   "metadata": {},
   "outputs": [],
   "source": [
    "conn.close()"
   ]
  }
 ],
 "metadata": {
  "kernelspec": {
   "display_name": "Python 3",
   "language": "python",
   "name": "python3"
  },
  "language_info": {
   "codemirror_mode": {
    "name": "ipython",
    "version": 3
   },
   "file_extension": ".py",
   "mimetype": "text/x-python",
   "name": "python",
   "nbconvert_exporter": "python",
   "pygments_lexer": "ipython3",
   "version": "3.9.13"
  },
  "orig_nbformat": 4
 },
 "nbformat": 4,
 "nbformat_minor": 2
}
