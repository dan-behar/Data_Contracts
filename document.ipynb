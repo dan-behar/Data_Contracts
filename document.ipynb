{
 "cells": [
  {
   "cell_type": "code",
   "execution_count": 29,
   "metadata": {},
   "outputs": [],
   "source": [
    "#Important libraries\n",
    "import pandas as pd\n",
    "import numpy as np\n",
    "import random\n",
    "import duckdb\n",
    "import yaml\n",
    "from datetime import datetime\n",
    "import logging"
   ]
  },
  {
   "cell_type": "markdown",
   "metadata": {},
   "source": [
    "### Extracting relevant info to build the contract"
   ]
  },
  {
   "cell_type": "code",
   "execution_count": null,
   "metadata": {},
   "outputs": [],
   "source": [
    "#Dataframe to use\n",
    "df = pd.read_csv(\"mejorado.csv\")\n",
    "df"
   ]
  },
  {
   "cell_type": "markdown",
   "metadata": {},
   "source": [
    "Added age as part of the example to the contract. Ranges: 18-100"
   ]
  },
  {
   "cell_type": "code",
   "execution_count": null,
   "metadata": {},
   "outputs": [],
   "source": [
    "#DO NOT RUN AGAIN\n",
    "age = []\n",
    "for i in range(1000):\n",
    "    age.append(random.randint(18,100))\n",
    "\n",
    "df=df.assign(ep_edad = age)\n",
    "df"
   ]
  },
  {
   "cell_type": "code",
   "execution_count": null,
   "metadata": {},
   "outputs": [],
   "source": [
    "#DO NOT RUN AGAIN\n",
    "df.to_csv('mejorado.csv')"
   ]
  },
  {
   "cell_type": "code",
   "execution_count": null,
   "metadata": {},
   "outputs": [],
   "source": [
    "np.unique(df['ep_tipo_exp'])"
   ]
  },
  {
   "cell_type": "code",
   "execution_count": null,
   "metadata": {},
   "outputs": [],
   "source": [
    "print(np.unique(df['ep_estado']))"
   ]
  },
  {
   "cell_type": "code",
   "execution_count": null,
   "metadata": {},
   "outputs": [],
   "source": [
    "print(np.unique(df['ep_ubicacion']))"
   ]
  },
  {
   "cell_type": "code",
   "execution_count": null,
   "metadata": {},
   "outputs": [],
   "source": [
    "df['ep_edad'].describe()"
   ]
  },
  {
   "cell_type": "markdown",
   "metadata": {},
   "source": [
    "### Contract example using the four variables described earlier"
   ]
  },
  {
   "cell_type": "code",
   "execution_count": 54,
   "metadata": {},
   "outputs": [],
   "source": [
    "#Log file basic configuration\n",
    "logging.basicConfig(filename=\"ContractFiles.log\",\n",
    "                    format='%(asctime)s %(message)s',\n",
    "                    filemode='w')\n",
    "\n",
    "logger = logging.getLogger()\n",
    "logger.setLevel(logging.DEBUG)\n",
    "\n",
    "# Stablishing connection with DB\n",
    "conn = duckdb.connect('file.db')"
   ]
  },
  {
   "cell_type": "code",
   "execution_count": 40,
   "metadata": {},
   "outputs": [
    {
     "name": "stdout",
     "output_type": "stream",
     "text": [
      "┌────────────────────┬────────────┬─────────────┬───────────┬─────────┬──────────────┐\n",
      "│ fecha_val_contrato │ table_name │ categorical │ numerical │  nulls  │ doesnt_exist │\n",
      "│     timestamp      │  varchar   │   varchar   │  varchar  │ varchar │   varchar    │\n",
      "├────────────────────────────────────────────────────────────────────────────────────┤\n",
      "│                                       0 rows                                       │\n",
      "└────────────────────────────────────────────────────────────────────────────────────┘\n",
      "\n"
     ]
    }
   ],
   "source": [
    "# Creating the tables that I'm gonna use and viewing them\n",
    "try:\n",
    "        conn.sql(\"\"\"CREATE TABLE resultados(fecha_val_contrato DATETIME, \n",
    "                table_name VARCHAR(50), \n",
    "                categorical VARCHAR(50), \n",
    "                numerical VARCHAR(50), \n",
    "                nulls VARCHAR(50),\n",
    "                doesnt_exist VARCHAR(50))\"\"\")\n",
    "except:\n",
    "        print(\"resultados table already exists\")\n",
    "        \n",
    "conn.table('resultados').show()"
   ]
  },
  {
   "cell_type": "code",
   "execution_count": null,
   "metadata": {},
   "outputs": [],
   "source": [
    "# This will be the CSV that ill pass in the validator\n",
    "result = duckdb.query('SELECT * FROM \"mejorado.csv\"').to_df()\n",
    "result.head(5)"
   ]
  },
  {
   "cell_type": "code",
   "execution_count": null,
   "metadata": {},
   "outputs": [],
   "source": [
    "# Getting the details of the contract in the YAML\n",
    "with open('Contract.yml', 'rb') as f:\n",
    "    conf = yaml.safe_load(f.read())"
   ]
  },
  {
   "cell_type": "code",
   "execution_count": 48,
   "metadata": {},
   "outputs": [],
   "source": [
    "# Contract enforcer\n",
    "def enforcerSQL(yaml):\n",
    "\n",
    "    # Defining returns\n",
    "    now = datetime.now()\n",
    "    categ_n = \"\"\n",
    "    numer_n = \"\"\n",
    "    nulls_n = \"\"\n",
    "    nonexist = \"\"\n",
    "    exists = True\n",
    "\n",
    "    logger.info(\"Table %s\", yaml[\"tableName\"])\n",
    "\n",
    "    # Cycle to move in all the columns that the DC defines\n",
    "    for i in range (len(yaml['columns'])):\n",
    "\n",
    "        columna = yaml['columns'][i]['column']\n",
    "        valores = yaml['columns'][i]['values']\n",
    "        nva = []\n",
    "\n",
    "        # Validator for categorical columns\n",
    "        if yaml['columns'][i]['isCategorical']:\n",
    "            try:\n",
    "                qry = duckdb.query(f'SELECT DISTINCT {columna} FROM {yaml[\"tableName\"]}').fetchall()\n",
    "                for i in range(len(qry)):\n",
    "                    nva.append(qry[i][0])\n",
    "                if len(list(set(nva).difference(valores))) == 0:\n",
    "                    logger.info(\"Column %s correct\", columna)\n",
    "                else:\n",
    "                    logger.warning(f\"Col %s unknown values: {list(set(nva).difference(valores))}\", columna)\n",
    "                    categ_n = categ_n + f\"{columna}, \"\n",
    "            except:\n",
    "                logger.error(\"Column %s doesnt exist\", columna)\n",
    "                nonexist = nonexist + f\"{columna}, \"\n",
    "                exists = False\n",
    "        \n",
    "        # Validator for non categorical columns\n",
    "        else:\n",
    "            try:\n",
    "                qry = duckdb.query(f'''SELECT {columna} FROM {yaml[\"tableName\"]}\n",
    "                                    WHERE {columna} < {valores[0]} OR {columna} > {valores[1]}''').fetchall()\n",
    "                if len(qry) != 0:\n",
    "                    logger.warning(f\"Col %s wrong vals: {qry}\", columna)\n",
    "                    numer_n = numer_n + f\"{columna}, \"\n",
    "                else:\n",
    "                    logger.info(\"Column %s correct\", columna)\n",
    "            except:\n",
    "                logger.error(\"Column %s doesnt exist\", columna)\n",
    "                nonexist = nonexist + f\"{columna}, \"\n",
    "                exists = False\n",
    "\n",
    "        # Checking for nulls\n",
    "        if exists:\n",
    "            nulls = duckdb.query(f'''select {columna} from {yaml[\"tableName\"]} \n",
    "                        WHERE {columna} IS NULL''').fetchall()\n",
    "            if len(nulls) != 0:\n",
    "                logger.warning(\"Column %s have nulls\", columna)\n",
    "                nulls_n = nulls_n + f\"{columna}, \"\n",
    "            else:\n",
    "                logger.info(\"No Null values in %s\", columna)\n",
    "        else:\n",
    "            exists = True\n",
    "    \n",
    "    logger.info(\"---------------------------------------------------------\")\n",
    "\n",
    "    if len(categ_n) == 0:\n",
    "        categ_n = \"All good\"\n",
    "    if len(numer_n) == 0:\n",
    "        numer_n = \"All good\"\n",
    "    if len(nulls_n) == 0:\n",
    "        nulls_n = \"All good\"\n",
    "    if len(nonexist) == 0:\n",
    "        nonexist = \"All good\"\n",
    "\n",
    "    return now, yaml[\"tableName\"], categ_n, numer_n, nulls_n, nonexist"
   ]
  },
  {
   "cell_type": "code",
   "execution_count": 55,
   "metadata": {},
   "outputs": [
    {
     "name": "stdout",
     "output_type": "stream",
     "text": [
      "┌──────────────────────┬──────────────┬─────────────────────────┬───────────┬───────────────────────────┬──────────────┐\n",
      "│  fecha_val_contrato  │  table_name  │       categorical       │ numerical │           nulls           │ doesnt_exist │\n",
      "│      timestamp       │   varchar    │         varchar         │  varchar  │          varchar          │   varchar    │\n",
      "├──────────────────────┼──────────────┼─────────────────────────┼───────────┼───────────────────────────┼──────────────┤\n",
      "│ 2023-09-27 11:09:0…  │ tester.csv   │ ep_tipo_exp, ep_estad…  │ ep_edad,  │ ep_estado, ep_ubicacion,  │ All good     │\n",
      "│ 2023-09-27 11:17:2…  │ mejorado.csv │ All good                │ All good  │ All good                  │ All good     │\n",
      "│ 2023-09-27 11:26:4…  │ tester.csv   │ ep_tipo_exp, ep_estad…  │ ep_edad,  │ ep_estado, ep_ubicacion,  │ All good     │\n",
      "└──────────────────────┴──────────────┴─────────────────────────┴───────────┴───────────────────────────┴──────────────┘\n",
      "\n"
     ]
    }
   ],
   "source": [
    "lista = enforcerSQL(conf)\n",
    "\n",
    "insert_query = f\"\"\"\n",
    "    INSERT INTO resultados\n",
    "    (fecha_val_contrato, table_name, categorical, numerical, nulls, doesnt_exist)\n",
    "    VALUES\n",
    "    ('{lista[0]}', '{lista[1]}', \n",
    "    '{lista[2]}', '{lista[3]}', \n",
    "    '{lista[4]}', '{lista[5]}')\n",
    "\"\"\"\n",
    "\n",
    "conn.execute(insert_query)\n",
    "conn.table('resultados').show()"
   ]
  },
  {
   "cell_type": "code",
   "execution_count": 52,
   "metadata": {},
   "outputs": [],
   "source": [
    "conn.close()"
   ]
  }
 ],
 "metadata": {
  "kernelspec": {
   "display_name": "Python 3",
   "language": "python",
   "name": "python3"
  },
  "language_info": {
   "codemirror_mode": {
    "name": "ipython",
    "version": 3
   },
   "file_extension": ".py",
   "mimetype": "text/x-python",
   "name": "python",
   "nbconvert_exporter": "python",
   "pygments_lexer": "ipython3",
   "version": "3.9.13"
  },
  "orig_nbformat": 4
 },
 "nbformat": 4,
 "nbformat_minor": 2
}
